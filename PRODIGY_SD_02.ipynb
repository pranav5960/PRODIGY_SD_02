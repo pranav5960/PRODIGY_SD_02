{
  "nbformat": 4,
  "nbformat_minor": 0,
  "metadata": {
    "colab": {
      "provenance": [],
      "authorship_tag": "ABX9TyNLbjkcX5dnx5S7W8NX1kek",
      "include_colab_link": true
    },
    "kernelspec": {
      "name": "python3",
      "display_name": "Python 3"
    },
    "language_info": {
      "name": "python"
    }
  },
  "cells": [
    {
      "cell_type": "markdown",
      "metadata": {
        "id": "view-in-github",
        "colab_type": "text"
      },
      "source": [
        "<a href=\"https://colab.research.google.com/github/pranav5960/PRODIGY_SD_02/blob/main/PRODIGY_SD_02.ipynb\" target=\"_parent\"><img src=\"https://colab.research.google.com/assets/colab-badge.svg\" alt=\"Open In Colab\"/></a>"
      ]
    },
    {
      "cell_type": "code",
      "source": [
        "import random\n",
        "\n",
        "def number_guessing_game():\n",
        "  number = random.randint(1, 100)\n",
        "  attempts = 0\n",
        "\n",
        "  print(\"I'm thinking of a number between 1 and 100. Can you guess it?\")\n",
        "\n",
        "  while True:\n",
        "    try:\n",
        "      guess = int(input(\"Enter your guess: \"))\n",
        "      attempts += 1\n",
        "\n",
        "      if guess < number:\n",
        "        print(\"Too low! Try again.\")\n",
        "      elif guess > number:\n",
        "        print(\"Too high! Try again.\")\n",
        "      else:\n",
        "        print(f\"Congratulations! You guessed the number {number} in {attempts} attempts.\")\n",
        "        break\n",
        "    except ValueError:\n",
        "      print(\"Invalid input. Please enter a number.\")\n",
        "\n",
        "number_guessing_game()"
      ],
      "metadata": {
        "colab": {
          "base_uri": "https://localhost:8080/"
        },
        "id": "vghaApcgs9uV",
        "outputId": "75839236-b80b-4399-a749-fd34d959f478"
      },
      "execution_count": 1,
      "outputs": [
        {
          "output_type": "stream",
          "name": "stdout",
          "text": [
            "I'm thinking of a number between 1 and 100. Can you guess it?\n",
            "Enter your guess: 42\n",
            "Too low! Try again.\n",
            "Enter your guess: 68\n",
            "Too high! Try again.\n",
            "Enter your guess: 55\n",
            "Too high! Try again.\n",
            "Enter your guess: 50\n",
            "Too high! Try again.\n",
            "Enter your guess: 48\n",
            "Congratulations! You guessed the number 48 in 5 attempts.\n"
          ]
        }
      ]
    }
  ]
}